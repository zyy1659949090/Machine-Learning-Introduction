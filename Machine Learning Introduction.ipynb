{
 "cells": [
  {
   "cell_type": "markdown",
   "metadata": {},
   "source": [
    "# Machine Learning: Brief Explaination\n",
    "By: Satryo Pramahardi"
   ]
  },
  {
   "cell_type": "markdown",
   "metadata": {},
   "source": [
    "### Index:\n",
    "1. Introduction to Machine Learning\n",
    "    - Overview to Machine Learning\n",
    "    - Types of problems and Task\n",
    "2. Machine Learning Model\n",
    "    - The Basic Elements of Machine Learning\n",
    "3. \n",
    "4. \n",
    "\n"
   ]
  },
  {
   "cell_type": "markdown",
   "metadata": {},
   "source": [
    "# Chapter 1: Introduction to Machine Learning"
   ]
  },
  {
   "cell_type": "markdown",
   "metadata": {
    "collapsed": true
   },
   "source": [
    "### 1.1 Overview to Machine Learning\n",
    "\n",
    "Machine Learning Theory is a subfield of Artifical Intelligence, focused on automated  detection  of  meaningful\n",
    "patterns in data. In contrast to traditional computational method where programmers provide an explicit command to be executed, machine learning explores the study and construction of algorithms that can learn from and make predictions on data. Such algorithms overcome following stricly static program instruction, making data-driven predictions through building a model from sample inputs.\n",
    "\n",
    "Dealing with large scale data and complex ,and often cases, nested iterative computation, optimization is one of the main concern of machine learning. That being said, while one is learning machine learning, one will also need to learn <b>Mathematical Optimization</b>. Knowledge in <b>data mining</b> would be important, since machine learning also covers <b>unsupervised learning</b> methods to learn and establish baseline behavioral profiles for various entities and then used to find meaningful anomalies.\n",
    "\n",
    "Providing hidden insights from data in a reliable manner, machine learning is essential for data analytics. Such usage are often very useful for <b>computer vision</b>, <b>financial analysis</b>, and other scientifical research which involves a complex computation in various fields such as biology and chemistry."
   ]
  },
  {
   "cell_type": "markdown",
   "metadata": {},
   "source": [
    "### Types of problems and Task\n",
    "\n",
    "Machine learning tasks are typically classiefied into three broad categories, depending on the nature of the problem and the environment it interacted with. These are:\n",
    "\n",
    "1. <b>Supervised learning</b>, viable when the cumputer is presented with example inputs and their desired outputs given by the \"trainer\", and the goal is to learn a general rule that maps inputs to outputs.\n",
    "2. <b>Unsupervised learning</b> is viable when there are no labes are given to the learning algorithm -in other words, unsupervised learning is viable when there are no clear stated inputs, outputs, or the algorithm itself-, leaving it on its own to find structure in its input. Unsupervised learning can be a goal in itself -by discovering hidden patterns in data, ora means toward an end (such as feature learning, factor analysis, etc).\n",
    "3. <b>Reinforcment learning</b> is a method used to analyze a dynamic environment, such as self-driving veichle. The program is proveded feedback in terms of reward and punishment as it run and navigates through it's problem space.\n",
    "\n",
    "Another categorization method of machine learning could be applied by differentiating one's desired output of a machine-learned system, such as:\n",
    "1. <b>Classifiction Method</b> is viable when one's desire is to divide an input data into 2 or more classes. <b>The goal is to teach the machine to produce a model that assigns future inputs to one or more of these classes</b>. This method usually tackled in a <b>supervised</b> way. <b>Spam filtering</b> is an example classification problem where the machine classifies wether an incoming email is a spam or not.\n",
    "2. <b>Regression Method</b> is viable when one's desire is to predict the next value from a labeled continous inputs.\n",
    "3. <b>Clustering Method</b> is viable when one's desired to divide an input into groups. Unlike the classification method, the groups are unknown before the training, making this typically a supervised task.\n",
    "4. <b>Density Estimation</b>, is used when one's is looking to find the distribution of inputs in some space.\n",
    "5. <b>Dimentionality Reduction</b> simplifies inputs by mapping them to a lower-dimensional space. This is very useful for optimization, since the higher the dimension, the more complex and costly one's algorithm would be. This method is very useful to deal with a very complex inputs like to teach machine human language/speech."
   ]
  },
  {
   "cell_type": "markdown",
   "metadata": {},
   "source": [
    "## Chapter 2: Learning the Machine Learning Model"
   ]
  },
  {
   "cell_type": "markdown",
   "metadata": {},
   "source": [
    "### The Elements of Machine Learning\n",
    "\n",
    "##### Case:\n",
    "> Imagine you have just arrived in some small Pacific island. You soon find out that papayas are a significant ingredient in the local diet. However, you have never before tasted papayas. You have to learn how to predict whether a papaya you see in the market is tasty or not.\n",
    "\n",
    "Now lets breakdown our case by first identifying the elements used for our machine learning process.\n",
    "\n",
    "The first one is the <b>learner's input</b>: in the basic statistical learning setting, the learner need access to the folowing elements:\n",
    "- <b>Domain set:</b> The set of objects that we may wish to label - notated by  $X$. In the papaya learning problem, the domain set will be the set of all papayas. This domain usually represented by a vector of <i>features</i>. Features consist of our object characteristic - in our case would be the papaya's color, softness, etc.\n",
    "- <b>Label set:</b> The set of the representation of the labels that would be assigned for our papaya. For this case, we will restrict the label set to be a two-element set. For example, let $Y$ represent the tastyness of our papaya. Next we are going to represent the values of the characteristics $Y$ with either $1$ or $0$ where $1$ means that the papaya is tasty and $0$ means that our papaya is not tasty. So to be represented as vector $Y = ${$1,0$}\n",
    "- <b>Training data</b>: training data is a dataset where our machine will learn the statistical importance between our label sets and our desired output where $S = ((x_1,y_1)...(x_m,y_m))$. The training data must be a finite sequence of pairs of our domain set and our label set (our object and its characteristics) notated as $X$ x $Y$. This would be our learner's input. <br/><br/> In python, this would be represented as two or more dimensional arrays where the first array dimension represent our object (in our case the papaya) and the second or more array dimension represent the feature or characteristic of our objects. <br/><br/> So our $S$ would be: \n",
    "\n",
    "| Our Object (our papaya)        | Characteristic 1 (eg. Color)           | Characteristic 2 (eg. Ripeness)  | Characteristic 3 (eg. Sweetness)|\n",
    "| ------------- |:-------------:| -----:|\n",
    "| $Papaya_1$     | $x_1$ | $y_1$ | $z_1$ |\n",
    "| $Papaya_2$     | $x_2$ | $y_2$ | $z_2$ |\n",
    "| $Papaya_3$     | $x_3$ | $y_3$ | $z_3$ |\n",
    "\n",
    "Represented by code:\n",
    "```python\n",
    "trainingSet[Papaya][Characteristic] = theValueOfCharacteristic\n",
    "```"
   ]
  },
  {
   "cell_type": "code",
   "execution_count": null,
   "metadata": {
    "collapsed": true
   },
   "outputs": [],
   "source": []
  },
  {
   "cell_type": "code",
   "execution_count": null,
   "metadata": {
    "collapsed": true
   },
   "outputs": [],
   "source": []
  }
 ],
 "metadata": {
  "kernelspec": {
   "display_name": "Python 3",
   "language": "python",
   "name": "python3"
  },
  "language_info": {
   "codemirror_mode": {
    "name": "ipython",
    "version": 3
   },
   "file_extension": ".py",
   "mimetype": "text/x-python",
   "name": "python",
   "nbconvert_exporter": "python",
   "pygments_lexer": "ipython3",
   "version": "3.6.2"
  }
 },
 "nbformat": 4,
 "nbformat_minor": 2
}
